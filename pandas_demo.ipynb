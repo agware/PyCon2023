{
 "cells": [
  {
   "cell_type": "code",
   "execution_count": 41,
   "metadata": {},
   "outputs": [
    {
     "data": {
      "text/html": [
       "<div>\n",
       "<style scoped>\n",
       "    .dataframe tbody tr th:only-of-type {\n",
       "        vertical-align: middle;\n",
       "    }\n",
       "\n",
       "    .dataframe tbody tr th {\n",
       "        vertical-align: top;\n",
       "    }\n",
       "\n",
       "    .dataframe thead th {\n",
       "        text-align: right;\n",
       "    }\n",
       "</style>\n",
       "<table border=\"1\" class=\"dataframe\">\n",
       "  <thead>\n",
       "    <tr style=\"text-align: right;\">\n",
       "      <th></th>\n",
       "      <th>checkout_library</th>\n",
       "      <th>author</th>\n",
       "      <th>item_type</th>\n",
       "      <th>language</th>\n",
       "      <th>age</th>\n",
       "    </tr>\n",
       "  </thead>\n",
       "  <tbody>\n",
       "    <tr>\n",
       "      <th>0</th>\n",
       "      <td>BSQ</td>\n",
       "      <td>Cano, Carles,</td>\n",
       "      <td>LOTE-BOOK</td>\n",
       "      <td>SPANISH</td>\n",
       "      <td>JUVENILE</td>\n",
       "    </tr>\n",
       "    <tr>\n",
       "      <th>1</th>\n",
       "      <td>BSQ</td>\n",
       "      <td>Cano, Carles,</td>\n",
       "      <td>LOTE-BOOK</td>\n",
       "      <td>SPANISH</td>\n",
       "      <td>JUVENILE</td>\n",
       "    </tr>\n",
       "    <tr>\n",
       "      <th>2</th>\n",
       "      <td>BSQ</td>\n",
       "      <td>Dupuis, Sylvia,</td>\n",
       "      <td>LOTE-BOOK</td>\n",
       "      <td>SPANISH</td>\n",
       "      <td>JUVENILE</td>\n",
       "    </tr>\n",
       "    <tr>\n",
       "      <th>3</th>\n",
       "      <td>BSQ</td>\n",
       "      <td>Maudet, Matthieu.</td>\n",
       "      <td>LOTE-BOOK</td>\n",
       "      <td>SPANISH</td>\n",
       "      <td>JUVENILE</td>\n",
       "    </tr>\n",
       "    <tr>\n",
       "      <th>4</th>\n",
       "      <td>BSQ</td>\n",
       "      <td>Foreman, Michael,</td>\n",
       "      <td>LOTE-BOOK</td>\n",
       "      <td>SPANISH</td>\n",
       "      <td>JUVENILE</td>\n",
       "    </tr>\n",
       "  </tbody>\n",
       "</table>\n",
       "</div>"
      ],
      "text/plain": [
       "  checkout_library             author  item_type language       age\n",
       "0              BSQ      Cano, Carles,  LOTE-BOOK  SPANISH  JUVENILE\n",
       "1              BSQ      Cano, Carles,  LOTE-BOOK  SPANISH  JUVENILE\n",
       "2              BSQ    Dupuis, Sylvia,  LOTE-BOOK  SPANISH  JUVENILE\n",
       "3              BSQ  Maudet, Matthieu.  LOTE-BOOK  SPANISH  JUVENILE\n",
       "4              BSQ  Foreman, Michael,  LOTE-BOOK  SPANISH  JUVENILE"
      ]
     },
     "execution_count": 41,
     "metadata": {},
     "output_type": "execute_result"
    }
   ],
   "source": [
    "import pandas as pd\n",
    "\n",
    "df = pd.read_csv(\"data/library_checkouts_all_branches_jul_2023.csv\")\n",
    "\n",
    "df[[\"checkout_library\", \"author\", \"item_type\", \"language\", \"age\"]].head()"
   ]
  },
  {
   "cell_type": "code",
   "execution_count": 42,
   "metadata": {},
   "outputs": [
    {
     "name": "stdout",
     "output_type": "stream",
     "text": [
      "\n",
      "Quick stats\n",
      "\n",
      "Number of checkouts: 50487\n",
      "Number of languages: 31\n",
      "\n",
      "Popularity by age:\n"
     ]
    },
    {
     "data": {
      "text/html": [
       "<div>\n",
       "<style scoped>\n",
       "    .dataframe tbody tr th:only-of-type {\n",
       "        vertical-align: middle;\n",
       "    }\n",
       "\n",
       "    .dataframe tbody tr th {\n",
       "        vertical-align: top;\n",
       "    }\n",
       "\n",
       "    .dataframe thead th {\n",
       "        text-align: right;\n",
       "    }\n",
       "</style>\n",
       "<table border=\"1\" class=\"dataframe\">\n",
       "  <thead>\n",
       "    <tr style=\"text-align: right;\">\n",
       "      <th></th>\n",
       "      <th>count</th>\n",
       "    </tr>\n",
       "    <tr>\n",
       "      <th>age</th>\n",
       "      <th></th>\n",
       "    </tr>\n",
       "  </thead>\n",
       "  <tbody>\n",
       "    <tr>\n",
       "      <th>JUVENILE</th>\n",
       "      <td>24740</td>\n",
       "    </tr>\n",
       "    <tr>\n",
       "      <th>ADULT</th>\n",
       "      <td>24477</td>\n",
       "    </tr>\n",
       "    <tr>\n",
       "      <th>YA</th>\n",
       "      <td>1260</td>\n",
       "    </tr>\n",
       "    <tr>\n",
       "      <th>POLICY NOT FOUND</th>\n",
       "      <td>10</td>\n",
       "    </tr>\n",
       "  </tbody>\n",
       "</table>\n",
       "</div>"
      ],
      "text/plain": [
       "                  count\n",
       "age                    \n",
       "JUVENILE          24740\n",
       "ADULT             24477\n",
       "YA                 1260\n",
       "POLICY NOT FOUND     10"
      ]
     },
     "execution_count": 42,
     "metadata": {},
     "output_type": "execute_result"
    }
   ],
   "source": [
    "print(\"\\nQuick stats\\n\")\n",
    "\n",
    "print(\"Number of checkouts:\", df.shape[0])\n",
    "\n",
    "df_language = (df[[\"language\"]].loc[~df.language.isnull()]\n",
    "                               .drop_duplicates())\n",
    "\n",
    "print(\"Number of languages:\", df_language.shape[0])\n",
    "\n",
    "df_pop = (df[[\"age\", \"item_id\"]].groupby(by=[\"age\"])\n",
    "                                .count()\n",
    "                                .rename(columns={\"item_id\": \"count\"})\n",
    "                                .sort_values(\"count\", ascending=False))\n",
    "\n",
    "print(\"\\nPopularity by age:\")\n",
    "df_pop.head()"
   ]
  },
  {
   "cell_type": "code",
   "execution_count": null,
   "metadata": {},
   "outputs": [],
   "source": []
  }
 ],
 "metadata": {
  "kernelspec": {
   "display_name": "venv",
   "language": "python",
   "name": "python3"
  },
  "language_info": {
   "codemirror_mode": {
    "name": "ipython",
    "version": 3
   },
   "file_extension": ".py",
   "mimetype": "text/x-python",
   "name": "python",
   "nbconvert_exporter": "python",
   "pygments_lexer": "ipython3",
   "version": "3.10.12"
  },
  "orig_nbformat": 4
 },
 "nbformat": 4,
 "nbformat_minor": 2
}
